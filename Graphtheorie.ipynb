{
 "cells": [
  {
   "cell_type": "markdown",
   "metadata": {},
   "source": [
    "# Graphentheorie"
   ]
  },
  {
   "cell_type": "markdown",
   "metadata": {},
   "source": [
    "## 1. Graphen implementieren"
   ]
  },
  {
   "cell_type": "markdown",
   "metadata": {},
   "source": [
    "Im folgenden wird eine Graphenrepräsentation in Phyton aufgebaut. \n",
    "\n",
    "Weder in Python noch in den meisten anderen Programmiersprachen existieren <i>generische</i> Datentypen, um Graphen zu modellieren. In einigen Programmiersprachen existieren allerdings heute Frameworks mit denen Graphen modelliert werden können. Programmiersprachen wie Julia und Scala profitieren von ihrem Abstraktionsgrad bei Graphen repräsentationen. Viele neue auf Graphen basierende Algorithmen werden deswegen in Scala oder Julia implementiert. \n",
    "\n",
    "Im Folgenden wird eine Graphimplementierung in Python vorgestellt. Dadurch soll aufgezeigt werden, wie Graphen in Programmiersprachen repräsentiert werden können ohne ein vorhandenes Framework dafür zu nutzen und wie eine Optimierungsproblem mit einfachen Algorithmen gelöst werden kann."
   ]
  },
  {
   "cell_type": "markdown",
   "metadata": {},
   "source": [
    "<b>Denke an unsere initiale Definition und vollziehe den Code nach:</b>\n",
    "\n",
    "Ein Graph G besteht aus\n",
    "- einer nichtleeren Knotenmenge V ; \n",
    "- und einer Kanten- oder Pfeilmenge E ⊆ V × V ;\n",
    "\n",
    "bei der jedem Element aus E genau ein Knotenpaar i und j aus V zugeordnet wird."
   ]
  },
  {
   "cell_type": "markdown",
   "metadata": {},
   "source": [
    "<b>Knotenobjekt</b>"
   ]
  },
  {
   "cell_type": "code",
   "execution_count": 8,
   "metadata": {},
   "outputs": [],
   "source": [
    "# Knotenobjekt das bisher nur den Namen repräsentiert\n",
    "\n",
    "class Node(object):\n",
    "    def __init__(self, name):\n",
    "        \"\"\"Annahme das name ein String ist\"\"\"\n",
    "        self.name = name\n",
    "        \n",
    "    def getName(self):\n",
    "        return self.name\n",
    "    \n",
    "    def __str__(self):\n",
    "        return self.name"
   ]
  },
  {
   "cell_type": "markdown",
   "metadata": {},
   "source": [
    "<b>Kantenobjekt</b>"
   ]
  },
  {
   "cell_type": "code",
   "execution_count": 14,
   "metadata": {},
   "outputs": [],
   "source": [
    "# Kanten Object \n",
    "# das ungerichtet zwei knoten speichert, die die Kante verbindet\n",
    "class Edge(object):\n",
    "    def __init__(self, src, dest):  \n",
    "        \"\"\"Annahme dass src und dest Knoten sind\"\"\" \n",
    "        self.src = src \n",
    "        self.dest = dest   \n",
    "        \n",
    "    def getSource(self):\n",
    "        return self.src \n",
    "    \n",
    "    def getDestination(self): \n",
    "        return self.dest     \n",
    "        \n",
    "    def __str__(self): #ausgabe der Knoten die vom Kantenobjekt verbunden werden\n",
    "        return self.src.getName() + '->' + self.dest.getName()"
   ]
  },
  {
   "cell_type": "markdown",
   "metadata": {},
   "source": [
    "<b>Digraph</b>"
   ]
  },
  {
   "cell_type": "code",
   "execution_count": 41,
   "metadata": {},
   "outputs": [],
   "source": [
    "#gerichteter Graph \n",
    "class Digraph(object): \n",
    "    \"\"\"edges ist ein dict, welches alle Nachfloger zu einem Knoten speichert\"\"\"\n",
    "    def __init__(self): \n",
    "        self.edges = {} \n",
    "        \n",
    "    def addNode(self, node):\n",
    "        if node in self.edges:\n",
    "            raise ValueError('Duplicate node')\n",
    "        else:\n",
    "            self.edges[node] = []  \n",
    "    \n",
    "    def addEdge(self, edge):\n",
    "        src = edge.getSource()\n",
    "        dest = edge.getDestination()\n",
    "        if not (src in self.edges and dest in self.edges):\n",
    "            raise ValueError('Node not in graph')\n",
    "        self.edges[src].append(dest)\n",
    "        \n",
    "    def childrenOf(self, node):\n",
    "        return self.edges[node]\n",
    "    \n",
    "    def hasNode(self, node):\n",
    "        return node in self.edges\n",
    "    \n",
    "    def getNode(self, name):\n",
    "        for n in self.edges:\n",
    "            if n.getName() == name:\n",
    "                return n\n",
    "        raise NameError(name)\n",
    "        \n",
    "    def __str__(self):\n",
    "        result = ''\n",
    "        for src in self.edges:\n",
    "            for dest in self.edges[src]:\n",
    "                result = result + src.getName() + '->'\\\n",
    "                         + dest.getName() + '\\n'\n",
    "        return result[:-1] #omit final newline\n",
    "\n",
    "    "
   ]
  },
  {
   "cell_type": "markdown",
   "metadata": {},
   "source": [
    "<b>Graph</b>"
   ]
  },
  {
   "cell_type": "code",
   "execution_count": 42,
   "metadata": {},
   "outputs": [],
   "source": [
    "#ungerichteter Graph erbt \n",
    "class Graph(Digraph):\n",
    "    def addEdge(self, edge):\n",
    "        Digraph.addEdge(self, edge)\n",
    "        rev = Edge(edge.getDestination(), edge.getSource())\n",
    "        Digraph.addEdge(self, rev)"
   ]
  },
  {
   "cell_type": "markdown",
   "metadata": {},
   "source": [
    "kleine Print Funktion"
   ]
  },
  {
   "cell_type": "code",
   "execution_count": 68,
   "metadata": {},
   "outputs": [],
   "source": [
    "def printPath(path):\n",
    "    \"\"\"Annahmte Pfad ist eine Liste von Knoten\"\"\"\n",
    "    result = ''\n",
    "    for i in range(len(path)):\n",
    "        result = result + str(path[i])\n",
    "        if i != len(path) - 1:\n",
    "            result = result + '->'\n",
    "    return result "
   ]
  },
  {
   "cell_type": "markdown",
   "metadata": {},
   "source": [
    "<b>Bauen wir unseres ersten Graphen</b>"
   ]
  },
  {
   "cell_type": "markdown",
   "metadata": {},
   "source": [
    "Im folgenden wir die implementierung oben gentutzt um einen Graphen anzulegen. Dabei handelt es sich, um mit Straßen verbunden Städte."
   ]
  },
  {
   "cell_type": "code",
   "execution_count": 43,
   "metadata": {},
   "outputs": [],
   "source": [
    "def buildCityGraph(graphType):\n",
    "    g = graphType()\n",
    "    for name in ('Boston', 'Providence', 'New York', 'Chicago',\n",
    "                 'Denver', 'Phoenix', 'Los Angeles'): #Create 7 nodes\n",
    "        g.addNode(Node(name))\n",
    "    g.addEdge(Edge(g.getNode('Boston'), g.getNode('Providence')))\n",
    "    g.addEdge(Edge(g.getNode('Boston'), g.getNode('New York')))\n",
    "    g.addEdge(Edge(g.getNode('Providence'), g.getNode('Boston')))\n",
    "    g.addEdge(Edge(g.getNode('Providence'), g.getNode('New York')))\n",
    "    g.addEdge(Edge(g.getNode('New York'), g.getNode('Chicago')))\n",
    "    g.addEdge(Edge(g.getNode('Chicago'), g.getNode('Phoenix')))\n",
    "    g.addEdge(Edge(g.getNode('Chicago'), g.getNode('Denver')))\n",
    "    g.addEdge(Edge(g.getNode('Denver'), g.getNode('Phoenix')))\n",
    "    g.addEdge(Edge(g.getNode('Denver'), g.getNode('New York')))\n",
    "    g.addEdge(Edge(g.getNode('Los Angeles'), g.getNode('Boston')))\n",
    "    return g\n"
   ]
  },
  {
   "cell_type": "code",
   "execution_count": 45,
   "metadata": {},
   "outputs": [],
   "source": [
    "g = buildCityGraph(Digraph)"
   ]
  },
  {
   "cell_type": "code",
   "execution_count": 47,
   "metadata": {},
   "outputs": [
    {
     "name": "stdout",
     "output_type": "stream",
     "text": [
      "Boston->Providence\n",
      "Boston->New York\n",
      "Providence->Boston\n",
      "Providence->New York\n",
      "New York->Chicago\n",
      "Chicago->Phoenix\n",
      "Chicago->Denver\n",
      "Denver->Phoenix\n",
      "Denver->New York\n",
      "Los Angeles->Boston\n"
     ]
    }
   ],
   "source": [
    "# Alle Pfeile des Graphen anzeigen \n",
    "print(g)"
   ]
  },
  {
   "cell_type": "markdown",
   "metadata": {},
   "source": [
    "<b>Aufgaben:</b>\n",
    "- warum ist Graph eine Subklasse von Digraph?\n",
    "- Zeichne den Graph auf ein Blatt Papier!"
   ]
  },
  {
   "cell_type": "markdown",
   "metadata": {},
   "source": [
    "--> Platz für deine Antworten"
   ]
  },
  {
   "cell_type": "markdown",
   "metadata": {},
   "source": [
    "## 2. Kürzeste Wege"
   ]
  },
  {
   "cell_type": "markdown",
   "metadata": {},
   "source": [
    "Imfolgenden werden Suchalgorithmen vorgestellt, die dazu dienen eine Route im Graphen von einem Anfangspunkt zu einem Zielpunkt zu ermitteln. Suchalgorithmen"
   ]
  },
  {
   "cell_type": "markdown",
   "metadata": {},
   "source": [
    "### 2.1 DFS"
   ]
  },
  {
   "cell_type": "markdown",
   "metadata": {},
   "source": [
    "Als erstes implementieren wir eine Suche anhand des Deept First Algorithmus (DFS). Mit dem DFS läuft man also graphen ab, um die kürzeste Route zu einem Element zu finden."
   ]
  },
  {
   "cell_type": "code",
   "execution_count": 61,
   "metadata": {},
   "outputs": [],
   "source": [
    "def DFS(graph, start, end, path, shortest, toPrint = False):\n",
    "    \"\"\"Assumes graph is a Digraph; start and end are nodes;\n",
    "          path and shortest are lists of nodes\n",
    "       Returns a shortest path from start to end in graph\"\"\"\n",
    "    path = path + [start]\n",
    "    if toPrint:\n",
    "        print('Current DFS path:', printPath(path))\n",
    "    if start == end:\n",
    "        return path\n",
    "    for node in graph.childrenOf(start):\n",
    "        if node not in path: #avoid cycles\n",
    "            if shortest == None or len(path) < len(shortest):\n",
    "                newPath = DFS(graph, node, end, path, shortest,\n",
    "                              toPrint)\n",
    "                if newPath != None:\n",
    "                    shortest = newPath\n",
    "        elif toPrint:\n",
    "            print('Already visited', node)\n",
    "    return shortest"
   ]
  },
  {
   "cell_type": "markdown",
   "metadata": {},
   "source": [
    "#### Test des DFS\n",
    "Test an unserem oben erstellten Graphen."
   ]
  },
  {
   "cell_type": "code",
   "execution_count": 62,
   "metadata": {},
   "outputs": [],
   "source": [
    "def shortestPath(graph, start, end, toPrint = False):\n",
    "    \"\"\"Assumes graph is a Digraph; start and end are nodes\n",
    "       Returns a shortest path from start to end in graph\"\"\"\n",
    "    return DFS(graph, start, end, [], None, toPrint)"
   ]
  },
  {
   "cell_type": "code",
   "execution_count": 63,
   "metadata": {},
   "outputs": [
    {
     "name": "stdout",
     "output_type": "stream",
     "text": [
      "Current DFS path: Boston\n",
      "Current DFS path: Boston->Providence\n",
      "Already visited Boston\n",
      "Current DFS path: Boston->Providence->New York\n",
      "Current DFS path: Boston->Providence->New York->Chicago\n",
      "Current DFS path: Boston->Providence->New York->Chicago->Phoenix\n",
      "Current DFS path: Boston->Providence->New York->Chicago->Denver\n",
      "Already visited New York\n",
      "Current DFS path: Boston->New York\n",
      "Current DFS path: Boston->New York->Chicago\n",
      "Current DFS path: Boston->New York->Chicago->Phoenix\n",
      "Current DFS path: Boston->New York->Chicago->Denver\n",
      "Already visited New York\n",
      "Shortest path from Boston to Phoenix is Boston->New York->Chicago->Phoenix\n"
     ]
    }
   ],
   "source": [
    "def testSP(source, destination):\n",
    "    g = buildCityGraph(Digraph)\n",
    "    sp = shortestPath(g, g.getNode(source), g.getNode(destination),\n",
    "                      toPrint = True)\n",
    "    if sp != None:\n",
    "        print('Shortest path from', source, 'to',\n",
    "              destination, 'is', printPath(sp))\n",
    "    else:\n",
    "        print('There is no path from', source, 'to', destination)\n",
    "\n",
    "#testSP('Chicago', 'Boston')\n",
    "testSP('Boston', 'Phoenix')"
   ]
  },
  {
   "cell_type": "markdown",
   "metadata": {},
   "source": [
    "<b>Aufgaben:</b>\n",
    "    \n",
    "- Vollziehe den Weg der DFS implementierung anhand deines oben gezeichneten Graphen nach\n",
    "- Warum heißt der Algorithmus DFS / wie geht der Algorithmus vor?"
   ]
  },
  {
   "cell_type": "markdown",
   "metadata": {},
   "source": [
    "--> Platz für deine Antworten"
   ]
  },
  {
   "cell_type": "markdown",
   "metadata": {},
   "source": [
    "### 2.2 BFS"
   ]
  },
  {
   "cell_type": "markdown",
   "metadata": {},
   "source": [
    "Als nächstes implementieren wir eine Suche anhand des Breadth-first-Search (BFS) Algorithmus. Mit dem BFS läuft man also ebenfalls graphen ab, um die kürzeste Route zu einem Element zu finden."
   ]
  },
  {
   "cell_type": "code",
   "execution_count": 65,
   "metadata": {},
   "outputs": [],
   "source": [
    "def BFS(graph, start, end, toPrint = False):\n",
    "    \"\"\"Assumes graph is a Digraph; start and end are nodes\n",
    "       Returns a shortest path from start to end in graph\"\"\"\n",
    "    initPath = [start]\n",
    "    pathQueue = [initPath]\n",
    "    while len(pathQueue) != 0:\n",
    "        #Get and remove oldest element in pathQueue\n",
    "        tmpPath = pathQueue.pop(0)\n",
    "        if toPrint:\n",
    "            print('Current BFS path:', printPath(tmpPath))\n",
    "        lastNode = tmpPath[-1]\n",
    "        if lastNode == end:\n",
    "            return tmpPath\n",
    "        for nextNode in graph.childrenOf(lastNode):\n",
    "            if nextNode not in tmpPath:\n",
    "                newPath = tmpPath + [nextNode]\n",
    "                pathQueue.append(newPath)\n",
    "    return None"
   ]
  },
  {
   "cell_type": "markdown",
   "metadata": {},
   "source": [
    "#### Test des BFS\n",
    "Test an unserem oben erstellten Graphen."
   ]
  },
  {
   "cell_type": "code",
   "execution_count": 66,
   "metadata": {},
   "outputs": [
    {
     "name": "stdout",
     "output_type": "stream",
     "text": [
      "Current BFS path: Boston\n",
      "Current BFS path: Boston->Providence\n",
      "Current BFS path: Boston->New York\n",
      "Current BFS path: Boston->Providence->New York\n",
      "Current BFS path: Boston->New York->Chicago\n",
      "Current BFS path: Boston->Providence->New York->Chicago\n",
      "Current BFS path: Boston->New York->Chicago->Phoenix\n",
      "Shortest path from Boston to Phoenix is Boston->New York->Chicago->Phoenix\n"
     ]
    }
   ],
   "source": [
    "def shortestPath(graph, start, end, toPrint = False):\n",
    "    \"\"\"Assumes graph is a Digraph; start and end are nodes\n",
    "       Returns a shortest path from start to end in graph\"\"\"\n",
    "    return BFS(graph, start, end, toPrint)\n",
    "    \n",
    "testSP('Boston', 'Phoenix')"
   ]
  },
  {
   "cell_type": "markdown",
   "metadata": {},
   "source": [
    "<b>Aufgaben:</b>\n",
    "    \n",
    "- Vollziehe den Weg der VFS implementierung anhand deines gezeichneten Graphen nach\n",
    "- Wie geht der Algorithmus vor?\n",
    "- Was passiert mit der Verbindung Providence --> Boston?\n",
    "\n",
    "- Was ist der Unterschied zwischen den Verfahren?\n"
   ]
  },
  {
   "cell_type": "markdown",
   "metadata": {},
   "source": [
    "--> Platz für deine Antworten"
   ]
  },
  {
   "cell_type": "markdown",
   "metadata": {},
   "source": [
    "## Recap\n",
    "\n",
    "Also:\n",
    "- bisher haben wir nur die Suche anhand nicht gewichteter Graphen implementiert. \n",
    "- Aus dem DFS lässt sich aber leicht eine optimierung bauen, anstatt der verbindungen die aufsummiert werden, müssten nur die Gewichte aufsummiert werden.\n",
    "\n",
    "Was noch:\n",
    "- Graphen sind cool\n",
    "- Graphen sind insbesondere brauchbar um relationen zwischen Objekten zu repräsentieren\n",
    "- Viele Probleme können mittels graphen modelliert werden und ein einfacher Algorithmus der sogar mit gerichteten und gewichteten Graphen umgehen kann (DFS) wurde oben vorgestellt."
   ]
  },
  {
   "cell_type": "markdown",
   "metadata": {},
   "source": [
    "### License\n",
    "\n",
    "MIT License\n",
    "\n",
    "Copyright (c) 2020 Fabian Gwinner - Julius-Maximilians-Universität Würzburg.\n",
    "\n",
    "Permission is hereby granted, free of charge, to any person obtaining a copy of this software and associated documentation files (the \"Software\"), to deal in the Software without restriction, including without limitation the rights to use, copy, modify, merge, publish, distribute, sublicense, and/or sell copies of the Software, and to permit persons to whom the Software is furnished to do so, subject to the following conditions:\n",
    "\n",
    "The above copyright notice and this permission notice shall be included in all copies or substantial portions of the Software.\n",
    "\n",
    "THE SOFTWARE IS PROVIDED \"AS IS\", WITHOUT WARRANTY OF ANY KIND, EXPRESS OR IMPLIED, INCLUDING BUT NOT LIMITED TO THE WARRANTIES OF MERCHANTABILITY, FITNESS FOR A PARTICULAR PURPOSE AND NONINFRINGEMENT. IN NO EVENT SHALL THE AUTHORS OR COPYRIGHT HOLDERS BE LIABLE FOR ANY CLAIM, DAMAGES OR OTHER LIABILITY, WHETHER IN AN ACTION OF CONTRACT, TORT OR OTHERWISE, ARISING FROM, OUT OF OR IN CONNECTION WITH THE SOFTWARE OR THE USE OR OTHER DEALINGS IN THE SOFTWARE.\n",
    "\n",
    "https://opensource.org/licenses/mit-license.php\n",
    "\n",
    "Used Libraries are excluded und underlay their own Licenses"
   ]
  }
 ],
 "metadata": {
  "kernelspec": {
   "display_name": "Python 3",
   "language": "python",
   "name": "python3"
  },
  "language_info": {
   "codemirror_mode": {
    "name": "ipython",
    "version": 3
   },
   "file_extension": ".py",
   "mimetype": "text/x-python",
   "name": "python",
   "nbconvert_exporter": "python",
   "pygments_lexer": "ipython3",
   "version": "3.8.2"
  }
 },
 "nbformat": 4,
 "nbformat_minor": 4
}
